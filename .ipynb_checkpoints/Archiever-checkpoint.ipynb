{
 "cells": [
  {
   "cell_type": "code",
   "execution_count": 2,
   "metadata": {},
   "outputs": [],
   "source": [
    "import os\n",
    "import multiprocessing as mp\n",
    "import shutil"
   ]
  },
  {
   "cell_type": "markdown",
   "metadata": {},
   "source": [
    "### Defining source"
   ]
  },
  {
   "cell_type": "code",
   "execution_count": 3,
   "metadata": {},
   "outputs": [
    {
     "name": "stdout",
     "output_type": "stream",
     "text": [
      "No. of source paths = 2\n",
      "1st soure path: \n",
      "\\\\deptnas.nus.edu.sg\\BIE\\MBELab\\jokhun\\Pro 1\\U2OS small mol screening\\a\\estradiol\n"
     ]
    }
   ],
   "source": [
    "source_directory=os.path.abspath(r'\\\\deptnas.nus.edu.sg\\BIE\\MBELab\\jokhun\\Pro 1\\U2OS small mol screening\\a')\n",
    "# source_directory=os.path.abspath(r'/gpfs0/home/jokhun/Pro 1/U2OS small mol screening/1_5000')\n",
    "\n",
    "source_paths = [os.path.join(source_directory,path) \n",
    "                for path in os.listdir(source_directory)\n",
    "                if os.path.isdir (os.path.join(source_directory,path))\n",
    "                and not os.path.isfile(os.path.join(source_directory,path)+'.zip')\n",
    "               ]\n",
    "print(f'No. of source paths = {len(source_paths)}')\n",
    "print(f'1st soure path: \\n{source_paths[0]}')"
   ]
  },
  {
   "cell_type": "markdown",
   "metadata": {},
   "source": [
    "### Defining destination"
   ]
  },
  {
   "cell_type": "code",
   "execution_count": 4,
   "metadata": {},
   "outputs": [
    {
     "name": "stdout",
     "output_type": "stream",
     "text": [
      "No. of destination paths = 2\n",
      "1st destination path: \n",
      "\\\\deptnas.nus.edu.sg\\BIE\\MBELab\\jokhun\\Pro 1\\U2OS small mol screening\\a\\estradiol\n"
     ]
    }
   ],
   "source": [
    "destination_directory = source_directory\n",
    "destination_paths = [os.path.join(destination_directory,os.path.basename(source)) \n",
    "                     for source in source_paths]\n",
    "print(f'No. of destination paths = {len(destination_paths)}')\n",
    "print(f'1st destination path: \\n{destination_paths[0]}')"
   ]
  },
  {
   "cell_type": "markdown",
   "metadata": {},
   "source": [
    "### Archieving"
   ]
  },
  {
   "cell_type": "code",
   "execution_count": 5,
   "metadata": {},
   "outputs": [
    {
     "data": {
      "text/plain": [
       "'Archieving Complete!'"
      ]
     },
     "execution_count": 5,
     "metadata": {},
     "output_type": "execute_result"
    }
   ],
   "source": [
    "if not os.path.isdir(destination_directory):\n",
    "    os.mkdir(destination_directory)\n",
    "with mp.Pool() as pool:\n",
    "    pool.starmap(shutil.make_archive,\n",
    "                 zip(destination_paths, ['zip' for path in source_paths], source_paths))\n",
    "'Archieving Complete!'"
   ]
  },
  {
   "cell_type": "markdown",
   "metadata": {},
   "source": [
    "### Deleting the source"
   ]
  },
  {
   "cell_type": "code",
   "execution_count": 6,
   "metadata": {},
   "outputs": [],
   "source": [
    "delete_source = True"
   ]
  },
  {
   "cell_type": "code",
   "execution_count": 7,
   "metadata": {},
   "outputs": [],
   "source": [
    "if delete_source:\n",
    "    with mp.Pool() as pool:\n",
    "            pool.map(shutil.rmtree,source_paths)\n",
    "    'Source deleted!'"
   ]
  },
  {
   "cell_type": "code",
   "execution_count": null,
   "metadata": {},
   "outputs": [],
   "source": []
  },
  {
   "cell_type": "code",
   "execution_count": null,
   "metadata": {},
   "outputs": [],
   "source": []
  }
 ],
 "metadata": {
  "kernelspec": {
   "display_name": "Python 3",
   "language": "python",
   "name": "python3"
  },
  "language_info": {
   "codemirror_mode": {
    "name": "ipython",
    "version": 3
   },
   "file_extension": ".py",
   "mimetype": "text/x-python",
   "name": "python",
   "nbconvert_exporter": "python",
   "pygments_lexer": "ipython3",
   "version": "3.7.7"
  }
 },
 "nbformat": 4,
 "nbformat_minor": 4
}
