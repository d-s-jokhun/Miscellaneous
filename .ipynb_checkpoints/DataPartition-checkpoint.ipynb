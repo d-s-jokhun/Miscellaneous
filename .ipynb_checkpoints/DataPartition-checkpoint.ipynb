{
 "cells": [
  {
   "cell_type": "code",
   "execution_count": 2,
   "metadata": {},
   "outputs": [],
   "source": [
    "import numpy as np"
   ]
  },
  {
   "cell_type": "code",
   "execution_count": 1,
   "metadata": {},
   "outputs": [],
   "source": [
    "\n",
    "def DataPartition(Data2Partion_dict, Partition=[0.6,0.2,0.2], RanSeed=None):\n",
    "    assert np.sum(Partition)==1, 'Partition must be a list of fractions (Train_Frac, Val_Frac, Test_Frac) whose sum is equal to 1'\n",
    "    np.random.seed(RanSeed)\n",
    "    \n",
    "    Ascd_ClassSizes = sorted([len(items[1]) for items in Data2Partion_dict.items()])\n",
    "    len_min = Ascd_ClassSizes[0]\n",
    "    len_max = Ascd_ClassSizes[-1]\n",
    "    \n",
    "    Test_size = round(Partition[2]*len_min)\n",
    "    Val_size = round(Partition[1]*len_min)\n",
    "    Train_size = len_max - (Val_size+Test_size)\n",
    "    \n",
    "    PartitionedData_dict = {}\n",
    "    for key in Data2Partion_dict.keys():\n",
    "        new_order = np.random.choice(Data2Partion_dict[key], size=len(Data2Partion_dict[key]), replace = False)\n",
    "        Tr_Set_temp=[]; Val_Set=[]; Ts_Set=[];\n",
    "        Ts_Set = new_order[:Test_size]\n",
    "        Val_Set = new_order[Test_size:Test_size+Val_size]\n",
    "        Tr_Set_temp = new_order[Test_size+Val_size:]\n",
    "        Tr_Set=[]\n",
    "        quotient=Train_size//len(Tr_Set_temp) ; remainder=Train_size%len(Tr_Set_temp)\n",
    "        for count in range(quotient):\n",
    "            Tr_Set.extend(Tr_Set_temp)\n",
    "        Tr_Set.extend(np.random.choice(Tr_Set_temp, size=remainder, replace = False))\n",
    "        PartitionedData_dict[key]={'Tr_Set':Tr_Set,'Val_Set':Val_Set,'Ts_Set':Ts_Set}\n",
    "        \n",
    "    return PartitionedData_dict\n"
   ]
  },
  {
   "cell_type": "code",
   "execution_count": null,
   "metadata": {},
   "outputs": [],
   "source": []
  },
  {
   "cell_type": "code",
   "execution_count": null,
   "metadata": {},
   "outputs": [],
   "source": []
  },
  {
   "cell_type": "code",
   "execution_count": null,
   "metadata": {},
   "outputs": [],
   "source": []
  }
 ],
 "metadata": {
  "kernelspec": {
   "display_name": "Python 3",
   "language": "python",
   "name": "python3"
  },
  "language_info": {
   "codemirror_mode": {
    "name": "ipython",
    "version": 3
   },
   "file_extension": ".py",
   "mimetype": "text/x-python",
   "name": "python",
   "nbconvert_exporter": "python",
   "pygments_lexer": "ipython3",
   "version": "3.7.7"
  }
 },
 "nbformat": 4,
 "nbformat_minor": 4
}
