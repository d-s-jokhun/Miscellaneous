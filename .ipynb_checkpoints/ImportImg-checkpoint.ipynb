{
 "cells": [
  {
   "cell_type": "code",
   "execution_count": 1,
   "metadata": {},
   "outputs": [],
   "source": [
    "import numpy as np\n",
    "import cv2\n",
    "import math\n"
   ]
  },
  {
   "cell_type": "code",
   "execution_count": 4,
   "metadata": {},
   "outputs": [],
   "source": [
    "\n",
    "def Import_Img (path, ScaleFactor=1, ImgSize=0, GrayScale=0):\n",
    "    \n",
    "    if GrayScale==0:\n",
    "        img = cv2.imread(path, cv2.IMREAD_UNCHANGED)\n",
    "    elif GrayScale==1:\n",
    "        img = cv2.imread(path, cv2.IMREAD_UNCHANGED).astype(np.float32)\n",
    "        img = np.subtract(img, np.amin(img))\n",
    "        img = np.divide(img, np.amax(img))\n",
    "        \n",
    "    W = math.floor(img.shape[1] * ScaleFactor)\n",
    "    H = math.floor(img.shape[0] * ScaleFactor)\n",
    "    \n",
    "    if ImgSize>0 and (W>ImgSize or H>ImgSize):\n",
    "        return\n",
    "    \n",
    "    img = cv2.resize(img, (W,H))\n",
    "    \n",
    "    width_to_pad=ImgSize-img.shape[1]\n",
    "    height_to_pad=ImgSize-img.shape[0]\n",
    "    \n",
    "    width_start, width_end, height_start, height_end = (0,0,0,0)\n",
    "    \n",
    "    if width_to_pad>0:\n",
    "        width_start = width_to_pad//2\n",
    "        width_end = width_to_pad - width_start\n",
    "        \n",
    "    if height_to_pad>0:\n",
    "        height_start = height_to_pad//2\n",
    "        height_end = height_to_pad - height_start\n",
    "        \n",
    "    if len(img.shape) == 2:\n",
    "        img = np.pad(img,((height_start,height_end),(width_start,width_end)))\n",
    "    elif len(img.shape) == 3:\n",
    "        img = np.pad(img,((height_start,height_end),(width_start,width_end),(0,0)))\n",
    "    \n",
    "    return img\n"
   ]
  },
  {
   "cell_type": "code",
   "execution_count": 5,
   "metadata": {},
   "outputs": [],
   "source": [
    "def Import_GrayImg (path, ScaleFactor=1, ImgSize=0, GrayScale=1):\n",
    "    img = Import_Img (path, ScaleFactor=ScaleFactor, ImgSize=ImgSize, GrayScale=GrayScale)\n",
    "    return img"
   ]
  },
  {
   "cell_type": "code",
   "execution_count": null,
   "metadata": {},
   "outputs": [],
   "source": []
  }
 ],
 "metadata": {
  "kernelspec": {
   "display_name": "Python 3",
   "language": "python",
   "name": "python3"
  },
  "language_info": {
   "codemirror_mode": {
    "name": "ipython",
    "version": 3
   },
   "file_extension": ".py",
   "mimetype": "text/x-python",
   "name": "python",
   "nbconvert_exporter": "python",
   "pygments_lexer": "ipython3",
   "version": "3.7.1"
  }
 },
 "nbformat": 4,
 "nbformat_minor": 4
}
