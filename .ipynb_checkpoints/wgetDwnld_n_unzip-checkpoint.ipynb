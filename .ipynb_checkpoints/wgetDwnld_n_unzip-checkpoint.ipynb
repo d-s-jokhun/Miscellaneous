{
 "cells": [
  {
   "cell_type": "code",
   "execution_count": null,
   "metadata": {},
   "outputs": [],
   "source": [
    "#  Imports using wget.download, unzips it and delete the downloaded zip file\n",
    "# dwnld_args = (url,local_destination)"
   ]
  },
  {
   "cell_type": "code",
   "execution_count": 9,
   "metadata": {},
   "outputs": [],
   "source": [
    "from wget import download\n",
    "from zipfile import ZipFile\n",
    "from os import path, remove"
   ]
  },
  {
   "cell_type": "code",
   "execution_count": 8,
   "metadata": {},
   "outputs": [],
   "source": [
    "def wgetDwnld_n_unzip(dwnld_args):\n",
    "    download(dwnld_args)\n",
    "    NewFile=path.join(dwnld_args[1],path.basename(dwnld_args[0]))\n",
    "    with ZipFile(NewFile, 'r') as ZipObj:\n",
    "        ZipObj.extractall(dwnld_args[1])\n",
    "    remove(NewFile)\n",
    "    "
   ]
  },
  {
   "cell_type": "code",
   "execution_count": 10,
   "metadata": {},
   "outputs": [],
   "source": []
  },
  {
   "cell_type": "code",
   "execution_count": null,
   "metadata": {},
   "outputs": [],
   "source": []
  }
 ],
 "metadata": {
  "kernelspec": {
   "display_name": "Python 3",
   "language": "python",
   "name": "python3"
  },
  "language_info": {
   "codemirror_mode": {
    "name": "ipython",
    "version": 3
   },
   "file_extension": ".py",
   "mimetype": "text/x-python",
   "name": "python",
   "nbconvert_exporter": "python",
   "pygments_lexer": "ipython3",
   "version": "3.7.1"
  }
 },
 "nbformat": 4,
 "nbformat_minor": 4
}
