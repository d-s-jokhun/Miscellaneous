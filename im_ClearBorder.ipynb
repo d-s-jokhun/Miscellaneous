{
 "cells": [
  {
   "cell_type": "code",
   "execution_count": 1,
   "metadata": {},
   "outputs": [],
   "source": [
    "# Takes in a labelled image (labelled mask) and outputs a copy of the image but without the objects which are touching the image border."
   ]
  },
  {
   "cell_type": "code",
   "execution_count": 2,
   "metadata": {},
   "outputs": [],
   "source": [
    "import cv2\n",
    "import numpy as np"
   ]
  },
  {
   "cell_type": "code",
   "execution_count": 3,
   "metadata": {},
   "outputs": [],
   "source": [
    "def im_ClearBorder (labelled_img):\n",
    "    n_objs = np.amax(labelled_img)\n",
    "    if n_objs==0:\n",
    "        return (labelled_img)\n",
    "    \n",
    "    labelled_ClearedBorder=np.zeros(labelled_img.shape, dtype=bool)\n",
    "    \n",
    "    for n in range(n_objs):\n",
    "        obj_n_mask = labelled_img==n+1\n",
    "        if np.sum(obj_n_mask)>0:\n",
    "            BoundRec = cv2.boundingRect(np.uint8(obj_n_mask))\n",
    "            x1=BoundRec[0]\n",
    "            x2=BoundRec[0]+BoundRec[2]-1\n",
    "            y1=BoundRec[1]\n",
    "            y2=BoundRec[1]+BoundRec[3]-1\n",
    "            canvas_h,canvas_w = labelled_img.shape\n",
    "            if x1>0 and x1<canvas_w-1 and x2>0 and x2<canvas_w-1 and y1>0 and y1<canvas_h-1 and y2>0 and y2<canvas_h-1:\n",
    "                labelled_ClearedBorder += obj_n_mask\n",
    "            \n",
    "    labelled_ClearedBorder = labelled_ClearedBorder.astype(labelled_img.dtype) * labelled_img\n",
    "        \n",
    "    return labelled_ClearedBorder"
   ]
  },
  {
   "cell_type": "code",
   "execution_count": null,
   "metadata": {},
   "outputs": [],
   "source": []
  }
 ],
 "metadata": {
  "kernelspec": {
   "display_name": "Python 3",
   "language": "python",
   "name": "python3"
  },
  "language_info": {
   "codemirror_mode": {
    "name": "ipython",
    "version": 3
   },
   "file_extension": ".py",
   "mimetype": "text/x-python",
   "name": "python",
   "nbconvert_exporter": "python",
   "pygments_lexer": "ipython3",
   "version": "3.7.1"
  }
 },
 "nbformat": 4,
 "nbformat_minor": 4
}
