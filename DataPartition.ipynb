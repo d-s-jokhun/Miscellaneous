{
 "cells": [
  {
   "cell_type": "code",
   "execution_count": 2,
   "metadata": {},
   "outputs": [],
   "source": [
    "import numpy as np\n",
    "import math"
   ]
  },
  {
   "cell_type": "code",
   "execution_count": 41,
   "metadata": {},
   "outputs": [],
   "source": [
    "\n",
    "def DataPartition(FullSet, Partition=[0.6,0.2,0.2], RanSeed=None):\n",
    "    assert np.sum(Partition)<=1\n",
    "    np.random.seed(RanSeed)\n",
    "    l = len(FullSet)\n",
    "    new_order = np.random.choice(FullSet, size = l, replace = False)\n",
    "\n",
    "    Tr_MaxIdx = np.ceil(l*Partition[0]).astype(np.int)\n",
    "    Val_MaxIdx = np.ceil(l*(Partition[0]+Partition[1])).astype(np.int)\n",
    "    Ts_MaxIdx = np.ceil(l*(Partition[0]+Partition[1]+Partition[2])).astype(np.int)\n",
    "\n",
    "    Tr_Set = new_order[0:Tr_MaxIdx]\n",
    "    Val_Set = new_order[Tr_MaxIdx:Val_MaxIdx]\n",
    "    Ts_Set = new_order[Val_MaxIdx:Ts_MaxIdx]\n",
    "    \n",
    "    return Tr_Set, Val_Set, Ts_Set\n"
   ]
  },
  {
   "cell_type": "code",
   "execution_count": null,
   "metadata": {},
   "outputs": [],
   "source": []
  },
  {
   "cell_type": "code",
   "execution_count": null,
   "metadata": {},
   "outputs": [],
   "source": []
  },
  {
   "cell_type": "code",
   "execution_count": null,
   "metadata": {},
   "outputs": [],
   "source": []
  }
 ],
 "metadata": {
  "kernelspec": {
   "display_name": "Python 3",
   "language": "python",
   "name": "python3"
  },
  "language_info": {
   "codemirror_mode": {
    "name": "ipython",
    "version": 3
   },
   "file_extension": ".py",
   "mimetype": "text/x-python",
   "name": "python",
   "nbconvert_exporter": "python",
   "pygments_lexer": "ipython3",
   "version": "3.7.1"
  }
 },
 "nbformat": 4,
 "nbformat_minor": 4
}
