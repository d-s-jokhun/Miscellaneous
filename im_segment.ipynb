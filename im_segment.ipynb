{
 "cells": [
  {
   "cell_type": "code",
   "execution_count": 1,
   "metadata": {},
   "outputs": [],
   "source": [
    "# Imput = (a mask (or labelled mask) and an image) or (a mask or labelled mask)\n",
    "# Outputs a crop if the mask is not labelled\n",
    "# Outputs a list of crops if the mask is labelled"
   ]
  },
  {
   "cell_type": "code",
   "execution_count": 2,
   "metadata": {},
   "outputs": [],
   "source": [
    "import cv2\n",
    "import numpy as np"
   ]
  },
  {
   "cell_type": "code",
   "execution_count": 5,
   "metadata": {},
   "outputs": [],
   "source": [
    "def im_segment (mask, image=None):\n",
    "        \n",
    "    n_objs = np.amax(mask)\n",
    "    if n_objs==0:\n",
    "        return (None) \n",
    "    \n",
    "    if type(image) == type(None):\n",
    "        image = mask\n",
    "    \n",
    "    Segments=[]\n",
    "    for n in range(n_objs):\n",
    "        obj_n_mask = mask==n+1\n",
    "        if np.sum(obj_n_mask)>0:\n",
    "            BoundRec = cv2.boundingRect(np.uint8(obj_n_mask))\n",
    "            x1=BoundRec[0]\n",
    "            x2=BoundRec[0]+BoundRec[2]-1\n",
    "            y1=BoundRec[1]\n",
    "            y2=BoundRec[1]+BoundRec[3]-1\n",
    "\n",
    "            obj_n_img = image * obj_n_mask\n",
    "            crop = obj_n_img[y1:y2,x1:x2]\n",
    "            Segments.append(crop)\n",
    "    \n",
    "    return Segments"
   ]
  },
  {
   "cell_type": "code",
   "execution_count": null,
   "metadata": {},
   "outputs": [],
   "source": []
  }
 ],
 "metadata": {
  "kernelspec": {
   "display_name": "Python 3",
   "language": "python",
   "name": "python3"
  },
  "language_info": {
   "codemirror_mode": {
    "name": "ipython",
    "version": 3
   },
   "file_extension": ".py",
   "mimetype": "text/x-python",
   "name": "python",
   "nbconvert_exporter": "python",
   "pygments_lexer": "ipython3",
   "version": "3.7.1"
  }
 },
 "nbformat": 4,
 "nbformat_minor": 4
}
